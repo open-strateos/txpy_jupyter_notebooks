{
 "cells": [
  {
   "cell_type": "markdown",
   "metadata": {},
   "source": [
    "# TxPy Example Notebooks\n",
    "This is the index notebook for this repository, which serves as an introduction to using the Jupyter components of the [TxPy library](https://github.com/strateos/transcriptic).\n",
    "\n",
    "This will cover some pre-requisites as well as introduce the general layout of this repository."
   ]
  },
  {
   "cell_type": "markdown",
   "metadata": {},
   "source": [
    "## Pre-requisites\n",
    "### BinderHub\n",
    "\n",
    "None, if you're accessing this via BinderHub, i.e. you clicked on a `launch binder` icon.\n",
    "\n",
    "### Local\n",
    "If you're running this locally, ensure that you have transcriptic installed."
   ]
  },
  {
   "cell_type": "code",
   "execution_count": null,
   "metadata": {},
   "outputs": [],
   "source": [
    "# This should execute correctly\n",
    "try:\n",
    "    # Import Jupyter and Analysis packages\n",
    "    from transcriptic.jupyter import *\n",
    "    from transcriptic.analysis import *\n",
    "    print(\"Able to import Jupyter and Analysis packages\")\n",
    "    \n",
    "    from transcriptic import __version__\n",
    "    print(f\"Using {__version__}\")\n",
    "except ImportError:\n",
    "    print(\"Uncomment and execute the cell below\")"
   ]
  },
  {
   "cell_type": "code",
   "execution_count": null,
   "metadata": {},
   "outputs": [],
   "source": [
    "#!pip install 'transcriptic[jupyter, analysis]'"
   ]
  },
  {
   "cell_type": "markdown",
   "metadata": {},
   "source": [
    "## Layout\n",
    "\n",
    "The repository contains the following notebooks:\n",
    "1. [objects.ipynb](objects.ipynb) - Walkthrough of how to instantiate and utilize Jupyter objects (e.g. Run, Dataset, etc.) exposed in the library.\n",
    "2. [analysis.ipynb](analysis.ipynb) - Walkthrough of how to utilize the analysis package to interact with and perfor madditional analysis on exposed Datasets.\n",
    "\n",
    "We recommend exploring in that order."
   ]
  }
 ],
 "metadata": {
  "kernelspec": {
   "display_name": "Python 3",
   "language": "python",
   "name": "python3"
  },
  "language_info": {
   "codemirror_mode": {
    "name": "ipython",
    "version": 3
   },
   "file_extension": ".py",
   "mimetype": "text/x-python",
   "name": "python",
   "nbconvert_exporter": "python",
   "pygments_lexer": "ipython3",
   "version": "3.6.10"
  }
 },
 "nbformat": 4,
 "nbformat_minor": 4
}
